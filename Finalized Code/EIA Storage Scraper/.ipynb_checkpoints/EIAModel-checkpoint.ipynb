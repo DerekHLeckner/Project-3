{
 "cells": [
  {
   "cell_type": "code",
   "execution_count": 1,
   "metadata": {},
   "outputs": [],
   "source": [
    "%matplotlib inline\n",
    "import matplotlib.pyplot as plt\n",
    "import numpy as np\n",
    "import pandas as pd"
   ]
  },
  {
   "cell_type": "code",
   "execution_count": 3,
   "metadata": {},
   "outputs": [
    {
     "data": {
      "text/html": [
       "<div>\n",
       "<style scoped>\n",
       "    .dataframe tbody tr th:only-of-type {\n",
       "        vertical-align: middle;\n",
       "    }\n",
       "\n",
       "    .dataframe tbody tr th {\n",
       "        vertical-align: top;\n",
       "    }\n",
       "\n",
       "    .dataframe thead th {\n",
       "        text-align: right;\n",
       "    }\n",
       "</style>\n",
       "<table border=\"1\" class=\"dataframe\">\n",
       "  <thead>\n",
       "    <tr style=\"text-align: right;\">\n",
       "      <th></th>\n",
       "      <th>Unnamed: 0</th>\n",
       "      <th>EIA</th>\n",
       "      <th>East Cheyenne Gas Storage</th>\n",
       "      <th>BayGas Storage</th>\n",
       "      <th>Freebird Gas Storage L.L.C.</th>\n",
       "      <th>Caledonia Energy Partners, L.L.C.</th>\n",
       "    </tr>\n",
       "  </thead>\n",
       "  <tbody>\n",
       "    <tr>\n",
       "      <th>0</th>\n",
       "      <td>2-Oct-20</td>\n",
       "      <td>75</td>\n",
       "      <td>71975</td>\n",
       "      <td>2253249</td>\n",
       "      <td>-9507</td>\n",
       "      <td>52792</td>\n",
       "    </tr>\n",
       "    <tr>\n",
       "      <th>1</th>\n",
       "      <td>25-Sep-20</td>\n",
       "      <td>76</td>\n",
       "      <td>157908</td>\n",
       "      <td>2634506</td>\n",
       "      <td>21948</td>\n",
       "      <td>138886</td>\n",
       "    </tr>\n",
       "    <tr>\n",
       "      <th>2</th>\n",
       "      <td>18-Sep-20</td>\n",
       "      <td>66</td>\n",
       "      <td>211349</td>\n",
       "      <td>2249277</td>\n",
       "      <td>115890</td>\n",
       "      <td>242558</td>\n",
       "    </tr>\n",
       "    <tr>\n",
       "      <th>3</th>\n",
       "      <td>11-Sep-20</td>\n",
       "      <td>89</td>\n",
       "      <td>346160</td>\n",
       "      <td>3075650</td>\n",
       "      <td>325983</td>\n",
       "      <td>414064</td>\n",
       "    </tr>\n",
       "    <tr>\n",
       "      <th>4</th>\n",
       "      <td>4-Sep-20</td>\n",
       "      <td>70</td>\n",
       "      <td>269818</td>\n",
       "      <td>1349312</td>\n",
       "      <td>225632</td>\n",
       "      <td>261793</td>\n",
       "    </tr>\n",
       "  </tbody>\n",
       "</table>\n",
       "</div>"
      ],
      "text/plain": [
       "  Unnamed: 0  EIA  East Cheyenne Gas Storage  BayGas Storage  \\\n",
       "0   2-Oct-20   75                      71975         2253249   \n",
       "1  25-Sep-20   76                     157908         2634506   \n",
       "2  18-Sep-20   66                     211349         2249277   \n",
       "3  11-Sep-20   89                     346160         3075650   \n",
       "4   4-Sep-20   70                     269818         1349312   \n",
       "\n",
       "   Freebird Gas Storage L.L.C.  Caledonia Energy Partners, L.L.C.  \n",
       "0                        -9507                              52792  \n",
       "1                        21948                             138886  \n",
       "2                       115890                             242558  \n",
       "3                       325983                             414064  \n",
       "4                       225632                             261793  "
      ]
     },
     "execution_count": 3,
     "metadata": {},
     "output_type": "execute_result"
    }
   ],
   "source": [
    "# Read the csv file into a pandas DataFrame\n",
    "\n",
    "EIA = pd.read_csv('History_worked1sheet.csv')\n",
    "EIA.head()"
   ]
  },
  {
   "cell_type": "code",
   "execution_count": 4,
   "metadata": {},
   "outputs": [
    {
     "name": "stdout",
     "output_type": "stream",
     "text": [
      "(157, 4) (157, 1)\n"
     ]
    }
   ],
   "source": [
    "# Assign the data to X and y\n",
    "\n",
    "X = EIA[[\"East Cheyenne Gas Storage\", \"BayGas Storage\",'Freebird Gas Storage L.L.C.','Caledonia Energy Partners, L.L.C.']]\n",
    "y = EIA[\"EIA\"].values.reshape(-1, 1)\n",
    "print(X.shape, y.shape)"
   ]
  },
  {
   "cell_type": "code",
   "execution_count": 9,
   "metadata": {},
   "outputs": [
    {
     "name": "stdout",
     "output_type": "stream",
     "text": [
      "Training Score: 0.6390681329571721\n",
      "Testing Score: 0.4072343158302822\n"
     ]
    }
   ],
   "source": [
    "# Use train_test_split to create training and testing data\n",
    "### BEGIN SOLUTION\n",
    "from sklearn.model_selection import train_test_split\n",
    "X_train, X_test, y_train, y_test = train_test_split(X, y, random_state=42)\n",
    "\n",
    "### END SOLUTION\n",
    "# Create the model using LinearRegression\n",
    "### BEGIN SOLUTION\n",
    "from sklearn.linear_model import LinearRegression\n",
    "model = LinearRegression()\n",
    "### END SOLUTION\n",
    "# Fit the model to the training data and calculate the scores for the training and testing data\n",
    "### BEGIN SOLUTION\n",
    "model.fit(X_train, y_train)\n",
    "training_score = model.score(X_train, y_train)\n",
    "testing_score = model.score(X_test, y_test)\n",
    "### END SOLUTION \n",
    "print(f\"Training Score: {training_score}\")\n",
    "print(f\"Testing Score: {testing_score}\")"
   ]
  },
  {
   "cell_type": "code",
   "execution_count": 10,
   "metadata": {},
   "outputs": [
    {
     "data": {
      "text/plain": [
       "Text(0.5, 1.0, 'Residual Plot')"
      ]
     },
     "execution_count": 10,
     "metadata": {},
     "output_type": "execute_result"
    },
    {
     "data": {
      "image/png": "[encoded data removed]",
      "text/plain": [
       "<Figure size 432x288 with 1 Axes>"
      ]
     },
     "metadata": {
      "needs_background": "light"
     },
     "output_type": "display_data"
    }
   ],
   "source": [
    "# Plot the Residuals for the Training and Testing data\n",
    "\n",
    "### BEGIN SOLUTION\n",
    "plt.scatter(model.predict(X_train), model.predict(X_train) - y_train, c=\"blue\", label=\"Training Data\")\n",
    "plt.scatter(model.predict(X_test), model.predict(X_test) - y_test, c=\"orange\", label=\"Testing Data\")\n",
    "plt.legend()\n",
    "plt.hlines(y=0, xmin=y.min(), xmax=y.max())\n",
    "plt.title(\"Residual Plot\")\n",
    "### END SOLUTION"
   ]
  },
  {
   "cell_type": "code",
   "execution_count": null,
   "metadata": {},
   "outputs": [],
   "source": []
  }
 ],
 "metadata": {
  "kernelspec": {
   "display_name": "Python 3",
   "language": "python",
   "name": "python3"
  },
  "language_info": {
   "codemirror_mode": {
    "name": "ipython",
    "version": 3
   },
   "file_extension": ".py",
   "mimetype": "text/x-python",
   "name": "python",
   "nbconvert_exporter": "python",
   "pygments_lexer": "ipython3",
   "version": "3.7.6"
  }
 },
 "nbformat": 4,
 "nbformat_minor": 4
}
