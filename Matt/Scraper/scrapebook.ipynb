{
 "cells": [
  {
   "cell_type": "code",
   "execution_count": 20,
   "metadata": {},
   "outputs": [],
   "source": [
    "# import dependencies\n",
    "from bs4 import BeautifulSoup as soup\n",
    "from splinter import Browser\n",
    "import pandas as pd\n",
    "import requests\n",
    "import numpy as np\n",
    "import sqlite3\n",
    "import os\n",
    "from datetime import datetime as dt\n",
    "\n",
    "executable_path = {'executable_path': 'chromedriver.exe'}\n",
    "browser = Browser('chrome', **executable_path, headless=False)"
   ]
  },
  {
   "cell_type": "code",
   "execution_count": 6,
   "metadata": {},
   "outputs": [],
   "source": [
    "storage_names = ['caledonia', 'freebird', 'baygas','mississippihub','eastcheyenne']"
   ]
  },
  {
   "cell_type": "code",
   "execution_count": 21,
   "metadata": {},
   "outputs": [
    {
     "data": {
      "text/html": [
       "<div>\n",
       "<style scoped>\n",
       "    .dataframe tbody tr th:only-of-type {\n",
       "        vertical-align: middle;\n",
       "    }\n",
       "\n",
       "    .dataframe tbody tr th {\n",
       "        vertical-align: top;\n",
       "    }\n",
       "\n",
       "    .dataframe thead th {\n",
       "        text-align: right;\n",
       "    }\n",
       "</style>\n",
       "<table border=\"1\" class=\"dataframe\">\n",
       "  <thead>\n",
       "    <tr style=\"text-align: right;\">\n",
       "      <th></th>\n",
       "      <th>date</th>\n",
       "      <th>tsp_name</th>\n",
       "      <th>loc</th>\n",
       "      <th>tsq</th>\n",
       "    </tr>\n",
       "  </thead>\n",
       "  <tbody>\n",
       "    <tr>\n",
       "      <th>0</th>\n",
       "      <td>October 9, 2020 09:05 PM CT</td>\n",
       "      <td>Freebird Gas Storage L.L.C.</td>\n",
       "      <td>0002</td>\n",
       "      <td>0</td>\n",
       "    </tr>\n",
       "    <tr>\n",
       "      <th>1</th>\n",
       "      <td>October 9, 2020 09:05 PM CT</td>\n",
       "      <td>Freebird Gas Storage L.L.C.</td>\n",
       "      <td>021039</td>\n",
       "      <td>4100</td>\n",
       "    </tr>\n",
       "    <tr>\n",
       "      <th>2</th>\n",
       "      <td>October 9, 2020 09:05 PM CT</td>\n",
       "      <td>Freebird Gas Storage L.L.C.</td>\n",
       "      <td>012709</td>\n",
       "      <td>-649</td>\n",
       "    </tr>\n",
       "  </tbody>\n",
       "</table>\n",
       "</div>"
      ],
      "text/plain": [
       "                          date                     tsp_name     loc   tsq\n",
       "0  October 9, 2020 09:05 PM CT  Freebird Gas Storage L.L.C.    0002     0\n",
       "1  October 9, 2020 09:05 PM CT  Freebird Gas Storage L.L.C.  021039  4100\n",
       "2  October 9, 2020 09:05 PM CT  Freebird Gas Storage L.L.C.  012709  -649"
      ]
     },
     "execution_count": 21,
     "metadata": {},
     "output_type": "execute_result"
    }
   ],
   "source": [
    "# define the url and visit it with browser\n",
    "storage_url = \"http://www.gasnom.com/ip/freebird/oauc.cfm?type=1\"\n",
    "browser.visit(storage_url)\n",
    "\n",
    "# grab the table data\n",
    "tables = pd.read_html(storage_url)\n",
    "storage_info = tables[0]\n",
    "storage_raw = tables[2]\n",
    "\n",
    "# reformat the table data\n",
    "tsp_name = storage_info.iloc[0][1]\n",
    "posting_date = storage_info.iloc[2][1]\n",
    "\n",
    "storage_raw.columns = [\"location_name\",\"loc\",\"loc_purp_desc\",\"loc_qti\",\"flow_ind\",\"all_qty_avail\",\\\n",
    "                       \"design_capacity\", \"operating_capacity\",\"tsq\",\"oac\",\"it_indicator\",\"qty_reason\",\"blanks\"]\n",
    "storage_raw = storage_raw.fillna(0)\n",
    "storage_cl1 = storage_raw.loc[storage_raw['location_name'] != 0]\n",
    "storage_cl1 = storage_cl1.drop(storage_cl1.index[0])\n",
    "storage_cl1 = storage_cl1.reset_index(drop=True)\n",
    "storage_cl2 = storage_cl1.iloc[:,[1,8]]\n",
    "\n",
    "storage_cl2.insert(0, 'date', posting_date)\n",
    "storage_cl2.insert(1, 'tsp_name', tsp_name)\n",
    "storage_cl2"
   ]
  },
  {
   "cell_type": "code",
   "execution_count": null,
   "metadata": {},
   "outputs": [],
   "source": []
  }
 ],
 "metadata": {
  "kernelspec": {
   "display_name": "Python 3",
   "language": "python",
   "name": "python3"
  },
  "language_info": {
   "codemirror_mode": {
    "name": "ipython",
    "version": 3
   },
   "file_extension": ".py",
   "mimetype": "text/x-python",
   "name": "python",
   "nbconvert_exporter": "python",
   "pygments_lexer": "ipython3",
   "version": "3.7.6"
  }
 },
 "nbformat": 4,
 "nbformat_minor": 4
}
