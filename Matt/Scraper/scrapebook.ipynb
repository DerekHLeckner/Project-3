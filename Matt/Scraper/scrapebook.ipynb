{
 "cells": [
  {
   "cell_type": "code",
   "execution_count": 50,
   "metadata": {},
   "outputs": [],
   "source": [
    "# import dependencies\n",
    "from bs4 import BeautifulSoup as soup\n",
    "import pandas as pd\n",
    "import requests\n",
    "import numpy as np\n",
    "import sqlite3\n",
    "import os\n",
    "from datetime import datetime as dt"
   ]
  },
  {
   "cell_type": "code",
   "execution_count": 27,
   "metadata": {},
   "outputs": [],
   "source": [
    "executable_path = {'executable_path': 'chromedriver.exe'}\n",
    "browser = Browser('chrome', **executable_path, headless=False)"
   ]
  },
  {
   "cell_type": "code",
   "execution_count": null,
   "metadata": {},
   "outputs": [],
   "source": [
    "# define the url and visit it with browser\n",
    "freebird_url = \"http://www.gasnom.com/ip/freebird/oauc.cfm?type=1\"\n",
    "browser.visit(freebird_url)"
   ]
  },
  {
   "cell_type": "code",
   "execution_count": 108,
   "metadata": {},
   "outputs": [],
   "source": [
    "# grab the table data\n",
    "tables = pd.read_html(freebird_url)\n",
    "freebird_info = tables[0]\n",
    "freebird_raw = tables[2]"
   ]
  },
  {
   "cell_type": "code",
   "execution_count": 109,
   "metadata": {},
   "outputs": [
    {
     "data": {
      "text/html": [
       "<div>\n",
       "<style scoped>\n",
       "    .dataframe tbody tr th:only-of-type {\n",
       "        vertical-align: middle;\n",
       "    }\n",
       "\n",
       "    .dataframe tbody tr th {\n",
       "        vertical-align: top;\n",
       "    }\n",
       "\n",
       "    .dataframe thead th {\n",
       "        text-align: right;\n",
       "    }\n",
       "</style>\n",
       "<table border=\"1\" class=\"dataframe\">\n",
       "  <thead>\n",
       "    <tr style=\"text-align: right;\">\n",
       "      <th></th>\n",
       "      <th>date</th>\n",
       "      <th>tsp_name</th>\n",
       "      <th>location_name</th>\n",
       "      <th>loc</th>\n",
       "      <th>loc_purp_desc</th>\n",
       "      <th>loc_qti</th>\n",
       "      <th>flow_ind</th>\n",
       "      <th>all_qty_avail</th>\n",
       "      <th>design_capacity</th>\n",
       "      <th>operating_capacity</th>\n",
       "      <th>tsq</th>\n",
       "      <th>oac</th>\n",
       "      <th>it_indicator</th>\n",
       "      <th>qty_reason</th>\n",
       "    </tr>\n",
       "  </thead>\n",
       "  <tbody>\n",
       "    <tr>\n",
       "      <th>0</th>\n",
       "      <td>October 8, 2020 05:35 PM CT</td>\n",
       "      <td>Freebird Gas Storage L.L.C.</td>\n",
       "      <td>NWAGD</td>\n",
       "      <td>0002</td>\n",
       "      <td>Storage Area</td>\n",
       "      <td>STQ</td>\n",
       "      <td>BD</td>\n",
       "      <td>Y</td>\n",
       "      <td>25000</td>\n",
       "      <td>25000</td>\n",
       "      <td>0</td>\n",
       "      <td>25000</td>\n",
       "      <td>0</td>\n",
       "      <td>0</td>\n",
       "    </tr>\n",
       "    <tr>\n",
       "      <th>1</th>\n",
       "      <td>October 8, 2020 05:35 PM CT</td>\n",
       "      <td>Freebird Gas Storage L.L.C.</td>\n",
       "      <td>Tennessee_PL_Inj</td>\n",
       "      <td>021039</td>\n",
       "      <td>Storage Area</td>\n",
       "      <td>STQ</td>\n",
       "      <td>BD</td>\n",
       "      <td>Y</td>\n",
       "      <td>250000</td>\n",
       "      <td>110000</td>\n",
       "      <td>4100</td>\n",
       "      <td>105900</td>\n",
       "      <td>0</td>\n",
       "      <td>0</td>\n",
       "    </tr>\n",
       "    <tr>\n",
       "      <th>2</th>\n",
       "      <td>October 8, 2020 05:35 PM CT</td>\n",
       "      <td>Freebird Gas Storage L.L.C.</td>\n",
       "      <td>Tennessee_PL_With</td>\n",
       "      <td>012709</td>\n",
       "      <td>Storage Area</td>\n",
       "      <td>STQ</td>\n",
       "      <td>BD</td>\n",
       "      <td>Y</td>\n",
       "      <td>250000</td>\n",
       "      <td>100000</td>\n",
       "      <td>-5649</td>\n",
       "      <td>94351</td>\n",
       "      <td>0</td>\n",
       "      <td>0</td>\n",
       "    </tr>\n",
       "  </tbody>\n",
       "</table>\n",
       "</div>"
      ],
      "text/plain": [
       "                          date                     tsp_name  \\\n",
       "0  October 8, 2020 05:35 PM CT  Freebird Gas Storage L.L.C.   \n",
       "1  October 8, 2020 05:35 PM CT  Freebird Gas Storage L.L.C.   \n",
       "2  October 8, 2020 05:35 PM CT  Freebird Gas Storage L.L.C.   \n",
       "\n",
       "       location_name     loc loc_purp_desc loc_qti flow_ind all_qty_avail  \\\n",
       "0              NWAGD    0002  Storage Area     STQ       BD             Y   \n",
       "1   Tennessee_PL_Inj  021039  Storage Area     STQ       BD             Y   \n",
       "2  Tennessee_PL_With  012709  Storage Area     STQ       BD             Y   \n",
       "\n",
       "  design_capacity operating_capacity    tsq     oac it_indicator qty_reason  \n",
       "0           25000              25000      0   25000            0          0  \n",
       "1          250000             110000   4100  105900            0          0  \n",
       "2          250000             100000  -5649   94351            0          0  "
      ]
     },
     "execution_count": 109,
     "metadata": {},
     "output_type": "execute_result"
    }
   ],
   "source": [
    "# reformat the table data\n",
    "tsp_name = freebird_info.iloc[0][1]\n",
    "posting_date = freebird_info.iloc[2][1]\n",
    "\n",
    "del freebird_raw[12]\n",
    "freebird_raw.columns = [\"location_name\",\"loc\",\"loc_purp_desc\",\"loc_qti\",\"flow_ind\",\"all_qty_avail\",\\\n",
    "                       \"design_capacity\", \"operating_capacity\",\"tsq\",\"oac\",\"it_indicator\",\"qty_reason\"]\n",
    "freebird_raw = freebird_raw.fillna(0)\n",
    "freebird_df = freebird_raw.loc[freebird_raw['location_name'] != 0]\n",
    "freebird_df = freebird_df.drop(freebird_df.index[0])\n",
    "freebird_df = freebird_df.reset_index(drop=True)\n",
    "\n",
    "freebird_df.insert(0, 'date', posting_date)\n",
    "freebird_df.insert(1, 'tsp_name', tsp_name)\n",
    "freebird_df"
   ]
  },
  {
   "cell_type": "code",
   "execution_count": null,
   "metadata": {},
   "outputs": [],
   "source": []
  },
  {
   "cell_type": "code",
   "execution_count": null,
   "metadata": {},
   "outputs": [],
   "source": []
  }
 ],
 "metadata": {
  "kernelspec": {
   "display_name": "Python 3",
   "language": "python",
   "name": "python3"
  },
  "language_info": {
   "codemirror_mode": {
    "name": "ipython",
    "version": 3
   },
   "file_extension": ".py",
   "mimetype": "text/x-python",
   "name": "python",
   "nbconvert_exporter": "python",
   "pygments_lexer": "ipython3",
   "version": "3.7.6"
  }
 },
 "nbformat": 4,
 "nbformat_minor": 4
}
