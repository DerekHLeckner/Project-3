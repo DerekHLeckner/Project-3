{
 "cells": [
  {
   "cell_type": "code",
   "execution_count": 2,
   "metadata": {},
   "outputs": [],
   "source": [
    "# import dependencies\n",
    "from bs4 import BeautifulSoup as soup\n",
    "from splinter import Browser\n",
    "import pandas as pd\n",
    "import requests\n",
    "import numpy as np\n",
    "import sqlite3\n",
    "import os\n",
    "import datetime as datetime\n",
    "import time\n",
    "\n",
    "executable_path = {'executable_path': 'chromedriver.exe'}\n",
    "browser = Browser('chrome', **executable_path, headless=False)"
   ]
  },
  {
   "cell_type": "code",
   "execution_count": 2,
   "metadata": {},
   "outputs": [],
   "source": [
    "# # define the url and visit it with browser\n",
    "# storage_names = ['freebird', 'baygas','eastcheyenne', 'caledonia']\n",
    "# start_date = datetime.datetime.today().strftime(\"%m/%d/%Y\")\n",
    "# start_date = datetime.datetime.strptime(start_date, \"%m/%d/%Y\").date()\n",
    "# end_date = datetime.date(2000,1,1)\n",
    "# delta = datetime.timedelta(days=-1)\n",
    "# start_date"
   ]
  },
  {
   "cell_type": "code",
   "execution_count": 5,
   "metadata": {},
   "outputs": [
    {
     "name": "stdout",
     "output_type": "stream",
     "text": [
      "For 2010-10-15 and 2000-01-01 at http://www.gasnom.com/ip/freebird/oauc.cfm?dt=10/15/2010&type=1\n",
      "For 2010-10-14 and 2000-01-01 at http://www.gasnom.com/ip/freebird/oauc.cfm?dt=10/14/2010&type=1\n",
      "For 2010-10-13 and 2000-01-01 at http://www.gasnom.com/ip/freebird/oauc.cfm?dt=10/13/2010&type=1\n",
      "For 2010-10-12 and 2000-01-01 at http://www.gasnom.com/ip/freebird/oauc.cfm?dt=10/12/2010&type=1\n",
      "For 2010-10-11 and 2000-01-01 at http://www.gasnom.com/ip/freebird/oauc.cfm?dt=10/11/2010&type=1\n",
      "For 2010-10-10 and 2000-01-01 at http://www.gasnom.com/ip/freebird/oauc.cfm?dt=10/10/2010&type=1\n",
      "For 2010-10-09 and 2000-01-01 at http://www.gasnom.com/ip/freebird/oauc.cfm?dt=10/09/2010&type=1\n",
      "No more data to be had\n",
      "For 2010-10-15 and 2000-01-01 at http://www.gasnom.com/ip/baygas/oauc.cfm?dt=10/15/2010&type=1\n",
      "No more data to be had\n",
      "For 2010-10-15 and 2000-01-01 at http://www.gasnom.com/ip/eastcheyenne/oauc.cfm?dt=10/15/2010&type=1\n",
      "No more data to be had\n",
      "For 2010-10-15 and 2000-01-01 at http://www.gasnom.com/ip/caledonia/oauc.cfm?dt=10/15/2010&type=1\n",
      "For 2010-10-14 and 2000-01-01 at http://www.gasnom.com/ip/caledonia/oauc.cfm?dt=10/14/2010&type=1\n",
      "For 2010-10-13 and 2000-01-01 at http://www.gasnom.com/ip/caledonia/oauc.cfm?dt=10/13/2010&type=1\n",
      "For 2010-10-12 and 2000-01-01 at http://www.gasnom.com/ip/caledonia/oauc.cfm?dt=10/12/2010&type=1\n",
      "For 2010-10-11 and 2000-01-01 at http://www.gasnom.com/ip/caledonia/oauc.cfm?dt=10/11/2010&type=1\n",
      "For 2010-10-10 and 2000-01-01 at http://www.gasnom.com/ip/caledonia/oauc.cfm?dt=10/10/2010&type=1\n",
      "For 2010-10-09 and 2000-01-01 at http://www.gasnom.com/ip/caledonia/oauc.cfm?dt=10/09/2010&type=1\n",
      "No more data to be had\n"
     ]
    }
   ],
   "source": [
    "# define the url and visit it with browser\n",
    "storage_names = ['freebird', 'baygas','eastcheyenne', 'caledonia']\n",
    "start_date = datetime.datetime.today().strftime(\"%m/%d/%Y\")\n",
    "start_date = datetime.datetime.strptime(start_date, \"%m/%d/%Y\").date()\n",
    "start_date = datetime.date(2010,10,15)\n",
    "end_date = datetime.date(2000,1,1)\n",
    "delta = datetime.timedelta(days=-1)\n",
    "\n",
    "data_frame_list = []\n",
    "for name in storage_names:\n",
    "    start_date = datetime.date(2010,10,15)\n",
    "    while start_date >= end_date:\n",
    "        try:\n",
    "            formated_date = start_date.strftime(\"%m/%d/%Y\")\n",
    "            storage_url = f\"http://www.gasnom.com/ip/{name}/oauc.cfm?dt={formated_date}&type=1\"\n",
    "            print(f\"For {start_date} and {end_date} at {storage_url}\")\n",
    "            browser.visit(storage_url)\n",
    "\n",
    "            # grab the table data\n",
    "            tables = pd.read_html(storage_url)\n",
    "            storage_info = tables[0]\n",
    "            storage_raw = tables[2]\n",
    "\n",
    "            # reformat the table data\n",
    "            tsp_name = storage_info.iloc[0][1]\n",
    "            posting_date = storage_info.iloc[2][1]\n",
    "\n",
    "            storage_raw.columns = [\"location_name\",\"loc\",\"loc_purp_desc\",\"loc_qti\",\"flow_ind\",\"all_qty_avail\",\\\n",
    "                                   \"design_capacity\", \"operating_capacity\",\"tsq\",\"oac\",\"it_indicator\",\"qty_reason\",\"blanks\"]\n",
    "            storage_raw = storage_raw.fillna(0)\n",
    "            storage_cl1 = storage_raw.loc[storage_raw['location_name'] != 0]\n",
    "            storage_cl1 = storage_cl1.drop(storage_cl1.index[0])\n",
    "            storage_cl1 = storage_cl1.reset_index(drop=True)\n",
    "            storage_cl2 = storage_cl1.iloc[:,[1,8]]\n",
    "\n",
    "            storage_cl2.insert(0, 'date', posting_date)\n",
    "            storage_cl2.insert(1, 'tsp_name', tsp_name)\n",
    "            time.sleep(3)\n",
    "            start_date += delta\n",
    "        except:\n",
    "            print(\"No more data to be had\")\n",
    "            break"
   ]
  },
  {
   "cell_type": "code",
   "execution_count": 6,
   "metadata": {},
   "outputs": [
    {
     "data": {
      "text/html": [
       "<div>\n",
       "<style scoped>\n",
       "    .dataframe tbody tr th:only-of-type {\n",
       "        vertical-align: middle;\n",
       "    }\n",
       "\n",
       "    .dataframe tbody tr th {\n",
       "        vertical-align: top;\n",
       "    }\n",
       "\n",
       "    .dataframe thead th {\n",
       "        text-align: right;\n",
       "    }\n",
       "</style>\n",
       "<table border=\"1\" class=\"dataframe\">\n",
       "  <thead>\n",
       "    <tr style=\"text-align: right;\">\n",
       "      <th></th>\n",
       "      <th>date</th>\n",
       "      <th>tsp_name</th>\n",
       "      <th>loc</th>\n",
       "      <th>tsq</th>\n",
       "    </tr>\n",
       "  </thead>\n",
       "  <tbody>\n",
       "    <tr>\n",
       "      <th>0</th>\n",
       "      <td>October 10, 2010 09:05 PM CT</td>\n",
       "      <td>Caledonia Energy Partners, L.L.C.</td>\n",
       "      <td>542519</td>\n",
       "      <td>-11169</td>\n",
       "    </tr>\n",
       "    <tr>\n",
       "      <th>1</th>\n",
       "      <td>October 10, 2010 09:05 PM CT</td>\n",
       "      <td>Caledonia Energy Partners, L.L.C.</td>\n",
       "      <td>542524</td>\n",
       "      <td>38228</td>\n",
       "    </tr>\n",
       "  </tbody>\n",
       "</table>\n",
       "</div>"
      ],
      "text/plain": [
       "                           date                           tsp_name     loc  \\\n",
       "0  October 10, 2010 09:05 PM CT  Caledonia Energy Partners, L.L.C.  542519   \n",
       "1  October 10, 2010 09:05 PM CT  Caledonia Energy Partners, L.L.C.  542524   \n",
       "\n",
       "      tsq  \n",
       "0  -11169  \n",
       "1   38228  "
      ]
     },
     "execution_count": 6,
     "metadata": {},
     "output_type": "execute_result"
    }
   ],
   "source": [
    "# # ret = ''\n",
    "# pythonic_date = dt.today()\n",
    "# # ret = \"SomePage\" + pythonic_date.strftime('%B %-d, %Y')\n",
    "# pythonic_date.strftime(\"%M:%d:%Y\")"
   ]
  },
  {
   "cell_type": "code",
   "execution_count": null,
   "metadata": {},
   "outputs": [],
   "source": [
    "# start_date = datetime.date(2020, 1, 1)\n",
    "# end_date = datetime.date(2000, 1, 4)\n",
    "# delta = datetime.timedelta(days=-1)\n",
    "# type(start_date)\n",
    "# while start_date >= end_date:\n",
    "#     print(start_date)\n",
    "#     start_date += delta"
   ]
  }
 ],
 "metadata": {
  "kernelspec": {
   "display_name": "Python 3",
   "language": "python",
   "name": "python3"
  },
  "language_info": {
   "codemirror_mode": {
    "name": "ipython",
    "version": 3
   },
   "file_extension": ".py",
   "mimetype": "text/x-python",
   "name": "python",
   "nbconvert_exporter": "python",
   "pygments_lexer": "ipython3",
   "version": "3.8.3"
  }
 },
 "nbformat": 4,
 "nbformat_minor": 4
}
