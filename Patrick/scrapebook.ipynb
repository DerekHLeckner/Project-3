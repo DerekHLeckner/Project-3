{
 "cells": [
  {
   "cell_type": "code",
   "execution_count": 15,
   "metadata": {},
   "outputs": [],
   "source": [
    "# import dependencies\n",
    "from bs4 import BeautifulSoup as soup\n",
    "from splinter import Browser\n",
    "import pandas as pd\n",
    "import requests\n",
    "import numpy as np\n",
    "import sqlite3\n",
    "import os\n",
    "from datetime import datetime as dt"
   ]
  },
  {
   "cell_type": "code",
   "execution_count": 16,
   "metadata": {},
   "outputs": [
    {
     "ename": "UnboundLocalError",
     "evalue": "local variable 'e' referenced before assignment",
     "output_type": "error",
     "traceback": [
      "\u001b[1;31m---------------------------------------------------------------------------\u001b[0m",
      "\u001b[1;31mUnboundLocalError\u001b[0m                         Traceback (most recent call last)",
      "\u001b[1;32m<ipython-input-16-9e3f53dbd46a>\u001b[0m in \u001b[0;36m<module>\u001b[1;34m\u001b[0m\n\u001b[0;32m      1\u001b[0m \u001b[0mexecutable_path\u001b[0m \u001b[1;33m=\u001b[0m \u001b[1;33m{\u001b[0m\u001b[1;34m'executable_path'\u001b[0m\u001b[1;33m:\u001b[0m \u001b[1;34m'chromedriver.exe'\u001b[0m\u001b[1;33m}\u001b[0m\u001b[1;33m\u001b[0m\u001b[1;33m\u001b[0m\u001b[0m\n\u001b[1;32m----> 2\u001b[1;33m \u001b[0mbrowser\u001b[0m \u001b[1;33m=\u001b[0m \u001b[0mBrowser\u001b[0m\u001b[1;33m(\u001b[0m\u001b[1;34m'chrome'\u001b[0m\u001b[1;33m,\u001b[0m \u001b[1;33m**\u001b[0m\u001b[0mexecutable_path\u001b[0m\u001b[1;33m,\u001b[0m \u001b[0mheadless\u001b[0m\u001b[1;33m=\u001b[0m\u001b[1;32mFalse\u001b[0m\u001b[1;33m)\u001b[0m\u001b[1;33m\u001b[0m\u001b[1;33m\u001b[0m\u001b[0m\n\u001b[0m",
      "\u001b[1;32mC:\\Python.Anaconda.Downloaded.Files\\envs\\PythonData\\lib\\site-packages\\splinter\\browser.py\u001b[0m in \u001b[0;36mBrowser\u001b[1;34m(driver_name, retry_count, *args, **kwargs)\u001b[0m\n\u001b[0;32m     88\u001b[0m         \u001b[1;32mraise\u001b[0m \u001b[0mDriverNotFoundError\u001b[0m\u001b[1;33m(\u001b[0m\u001b[1;34m\"No driver for %s\"\u001b[0m \u001b[1;33m%\u001b[0m \u001b[0mdriver_name\u001b[0m\u001b[1;33m)\u001b[0m\u001b[1;33m\u001b[0m\u001b[1;33m\u001b[0m\u001b[0m\n\u001b[0;32m     89\u001b[0m \u001b[1;33m\u001b[0m\u001b[0m\n\u001b[1;32m---> 90\u001b[1;33m     \u001b[1;32mreturn\u001b[0m \u001b[0mget_driver\u001b[0m\u001b[1;33m(\u001b[0m\u001b[0mdriver\u001b[0m\u001b[1;33m,\u001b[0m \u001b[1;33m*\u001b[0m\u001b[0margs\u001b[0m\u001b[1;33m,\u001b[0m \u001b[1;33m**\u001b[0m\u001b[0mkwargs\u001b[0m\u001b[1;33m)\u001b[0m\u001b[1;33m\u001b[0m\u001b[1;33m\u001b[0m\u001b[0m\n\u001b[0m",
      "\u001b[1;32mC:\\Python.Anaconda.Downloaded.Files\\envs\\PythonData\\lib\\site-packages\\splinter\\browser.py\u001b[0m in \u001b[0;36mget_driver\u001b[1;34m(driver, retry_count, *args, **kwargs)\u001b[0m\n\u001b[0;32m     66\u001b[0m             \u001b[1;32mpass\u001b[0m\u001b[1;33m\u001b[0m\u001b[1;33m\u001b[0m\u001b[0m\n\u001b[0;32m     67\u001b[0m \u001b[1;33m\u001b[0m\u001b[0m\n\u001b[1;32m---> 68\u001b[1;33m     \u001b[1;32mraise\u001b[0m \u001b[0me\u001b[0m\u001b[1;33m\u001b[0m\u001b[1;33m\u001b[0m\u001b[0m\n\u001b[0m\u001b[0;32m     69\u001b[0m \u001b[1;33m\u001b[0m\u001b[0m\n\u001b[0;32m     70\u001b[0m \u001b[1;33m\u001b[0m\u001b[0m\n",
      "\u001b[1;31mUnboundLocalError\u001b[0m: local variable 'e' referenced before assignment"
     ]
    }
   ],
   "source": [
    "executable_path = {'executable_path': 'chromedriver.exe'}\n",
    "browser = Browser('chrome', **executable_path, headless=False)"
   ]
  },
  {
   "cell_type": "code",
   "execution_count": 17,
   "metadata": {},
   "outputs": [
    {
     "ename": "NameError",
     "evalue": "name 'browser' is not defined",
     "output_type": "error",
     "traceback": [
      "\u001b[1;31m---------------------------------------------------------------------------\u001b[0m",
      "\u001b[1;31mNameError\u001b[0m                                 Traceback (most recent call last)",
      "\u001b[1;32m<ipython-input-17-87d01fda9b94>\u001b[0m in \u001b[0;36m<module>\u001b[1;34m\u001b[0m\n\u001b[0;32m      1\u001b[0m \u001b[1;31m# define the url and visit it with browser\u001b[0m\u001b[1;33m\u001b[0m\u001b[1;33m\u001b[0m\u001b[1;33m\u001b[0m\u001b[0m\n\u001b[0;32m      2\u001b[0m \u001b[0mfreebird_url\u001b[0m \u001b[1;33m=\u001b[0m \u001b[1;34m\"http://www.gasnom.com/ip/freebird/oauc.cfm?type=1\"\u001b[0m\u001b[1;33m\u001b[0m\u001b[1;33m\u001b[0m\u001b[0m\n\u001b[1;32m----> 3\u001b[1;33m \u001b[0mbrowser\u001b[0m\u001b[1;33m.\u001b[0m\u001b[0mvisit\u001b[0m\u001b[1;33m(\u001b[0m\u001b[0mfreebird_url\u001b[0m\u001b[1;33m)\u001b[0m\u001b[1;33m\u001b[0m\u001b[1;33m\u001b[0m\u001b[0m\n\u001b[0m",
      "\u001b[1;31mNameError\u001b[0m: name 'browser' is not defined"
     ]
    }
   ],
   "source": [
    "# define the url and visit it with browser\n",
    "freebird_url = \"http://www.gasnom.com/ip/freebird/oauc.cfm?type=1\"\n",
    "browser.visit(freebird_url)"
   ]
  },
  {
   "cell_type": "code",
   "execution_count": 13,
   "metadata": {},
   "outputs": [],
   "source": [
    "# grab the table data\n",
    "tables = pd.read_html(freebird_url)\n",
    "freebird_info = tables[0]\n",
    "freebird_raw = tables[2]"
   ]
  },
  {
   "cell_type": "code",
   "execution_count": 14,
   "metadata": {},
   "outputs": [
    {
     "data": {
      "text/html": [
       "<div>\n",
       "<style scoped>\n",
       "    .dataframe tbody tr th:only-of-type {\n",
       "        vertical-align: middle;\n",
       "    }\n",
       "\n",
       "    .dataframe tbody tr th {\n",
       "        vertical-align: top;\n",
       "    }\n",
       "\n",
       "    .dataframe thead th {\n",
       "        text-align: right;\n",
       "    }\n",
       "</style>\n",
       "<table border=\"1\" class=\"dataframe\">\n",
       "  <thead>\n",
       "    <tr style=\"text-align: right;\">\n",
       "      <th></th>\n",
       "      <th>date</th>\n",
       "      <th>tsp_name</th>\n",
       "      <th>location_name</th>\n",
       "      <th>loc</th>\n",
       "      <th>loc_purp_desc</th>\n",
       "      <th>loc_qti</th>\n",
       "      <th>flow_ind</th>\n",
       "      <th>all_qty_avail</th>\n",
       "      <th>design_capacity</th>\n",
       "      <th>operating_capacity</th>\n",
       "      <th>tsq</th>\n",
       "      <th>oac</th>\n",
       "      <th>it_indicator</th>\n",
       "      <th>qty_reason</th>\n",
       "    </tr>\n",
       "  </thead>\n",
       "  <tbody>\n",
       "    <tr>\n",
       "      <th>0</th>\n",
       "      <td>October 9, 2020 09:05 PM CT</td>\n",
       "      <td>Freebird Gas Storage L.L.C.</td>\n",
       "      <td>NWAGD</td>\n",
       "      <td>0002</td>\n",
       "      <td>Storage Area</td>\n",
       "      <td>STQ</td>\n",
       "      <td>BD</td>\n",
       "      <td>Y</td>\n",
       "      <td>25000</td>\n",
       "      <td>25000</td>\n",
       "      <td>0</td>\n",
       "      <td>25000</td>\n",
       "      <td>0</td>\n",
       "      <td>0</td>\n",
       "    </tr>\n",
       "    <tr>\n",
       "      <th>1</th>\n",
       "      <td>October 9, 2020 09:05 PM CT</td>\n",
       "      <td>Freebird Gas Storage L.L.C.</td>\n",
       "      <td>Tennessee_PL_Inj</td>\n",
       "      <td>021039</td>\n",
       "      <td>Storage Area</td>\n",
       "      <td>STQ</td>\n",
       "      <td>BD</td>\n",
       "      <td>Y</td>\n",
       "      <td>250000</td>\n",
       "      <td>110000</td>\n",
       "      <td>4100</td>\n",
       "      <td>105900</td>\n",
       "      <td>0</td>\n",
       "      <td>0</td>\n",
       "    </tr>\n",
       "    <tr>\n",
       "      <th>2</th>\n",
       "      <td>October 9, 2020 09:05 PM CT</td>\n",
       "      <td>Freebird Gas Storage L.L.C.</td>\n",
       "      <td>Tennessee_PL_With</td>\n",
       "      <td>012709</td>\n",
       "      <td>Storage Area</td>\n",
       "      <td>STQ</td>\n",
       "      <td>BD</td>\n",
       "      <td>Y</td>\n",
       "      <td>250000</td>\n",
       "      <td>100000</td>\n",
       "      <td>-649</td>\n",
       "      <td>99351</td>\n",
       "      <td>0</td>\n",
       "      <td>0</td>\n",
       "    </tr>\n",
       "  </tbody>\n",
       "</table>\n",
       "</div>"
      ],
      "text/plain": [
       "                          date                     tsp_name  \\\n",
       "0  October 9, 2020 09:05 PM CT  Freebird Gas Storage L.L.C.   \n",
       "1  October 9, 2020 09:05 PM CT  Freebird Gas Storage L.L.C.   \n",
       "2  October 9, 2020 09:05 PM CT  Freebird Gas Storage L.L.C.   \n",
       "\n",
       "       location_name     loc loc_purp_desc loc_qti flow_ind all_qty_avail  \\\n",
       "0              NWAGD    0002  Storage Area     STQ       BD             Y   \n",
       "1   Tennessee_PL_Inj  021039  Storage Area     STQ       BD             Y   \n",
       "2  Tennessee_PL_With  012709  Storage Area     STQ       BD             Y   \n",
       "\n",
       "  design_capacity operating_capacity   tsq     oac it_indicator qty_reason  \n",
       "0           25000              25000     0   25000            0          0  \n",
       "1          250000             110000  4100  105900            0          0  \n",
       "2          250000             100000  -649   99351            0          0  "
      ]
     },
     "execution_count": 14,
     "metadata": {},
     "output_type": "execute_result"
    }
   ],
   "source": [
    "\n",
    "# reformat the table data\n",
    "tsp_name = freebird_info.iloc[0][1]\n",
    "posting_date = freebird_info.iloc[2][1]\n",
    "\n",
    "del freebird_raw[12]\n",
    "freebird_raw.columns = [\"location_name\",\"loc\",\"loc_purp_desc\",\"loc_qti\",\"flow_ind\",\"all_qty_avail\",\\\n",
    "                       \"design_capacity\", \"operating_capacity\",\"tsq\",\"oac\",\"it_indicator\",\"qty_reason\"]\n",
    "freebird_raw = freebird_raw.fillna(0)\n",
    "freebird_df = freebird_raw.loc[freebird_raw['location_name'] != 0]\n",
    "freebird_df = freebird_df.drop(freebird_df.index[0])\n",
    "freebird_df = freebird_df.reset_index(drop=True)\n",
    "\n",
    "freebird_df.insert(0, 'date', posting_date)\n",
    "freebird_df.insert(1, 'tsp_name', tsp_name)\n",
    "freebird_df"
   ]
  },
  {
   "cell_type": "code",
   "execution_count": null,
   "metadata": {},
   "outputs": [],
   "source": []
  }
 ],
 "metadata": {
  "kernelspec": {
   "display_name": "Python 3",
   "language": "python",
   "name": "python3"
  },
  "language_info": {
   "codemirror_mode": {
    "name": "ipython",
    "version": 3
   },
   "file_extension": ".py",
   "mimetype": "text/x-python",
   "name": "python",
   "nbconvert_exporter": "python",
   "pygments_lexer": "ipython3",
   "version": "3.6.10"
  }
 },
 "nbformat": 4,
 "nbformat_minor": 4
}
